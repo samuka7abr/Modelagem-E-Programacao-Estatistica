{
 "cells": [
  {
   "cell_type": "markdown",
   "id": "ab81c07f",
   "metadata": {},
   "source": [
    "# Probabilidade\n",
    "\n",
    "## Distribuições de Probabilidade\n",
    "\n",
    "João e Maria estão jogando RPG, um jogo de imaginação em que as regras do mundo são ditadas por jogadas de dados. Para saber se um ataque foi bem sucedido, um dado de seis faces é jogado. Se o resultado for o número 1 ou 2, o ataque terá sido bem sucedido. O mesmo para calcular o dano, roda-se um dado e o valor será o dano causado pelo ataque bem sucedido. Podem-se utilizar mais de um dado em um ataque, por exemplo, 2 dados de 6 faces ou 1 dado de 12 faces.\n",
    "\n",
    "Maria acredita que jogadas que usam mais de um dado são superiores a jogadas de um dado com número de faces iguais ao número total de faces dos dois dados para causar dano. Se seu objetivo é causar o maior dano possível, com dois dados o dano mínimo é maior que com um dado. Por exemplo, sempre que ela precisar escolher um teste de dano, ela deveria escolher a opção com dois dados, pois o resultado mínimo será 2, enquanto com 1 dado de 12 faces, o valor mínimo é 1. Assim, em média, o dano causado por 2 dados de 6 faces é maior que o dano médio do dado de 12 faces.\n",
    "\n",
    "Não só isso, como ela acredita que a distribuição de frequência dos valores nesses casos será diferente e que para testes de probabilidade simples, como saber se um ataque foi bem sucedido, é melhor usar apenas um dado, e será mais justo, pois cada face tem a mesma probabilidade de ocorrência. \n",
    "\n",
    "João discorda e começa a jogar dados e conferir os resultados para checar as intuições e pensamento matemático de Maria.\n",
    "\n",
    "### Instruções\n",
    "\n",
    "Escreva um programa que simule a jogada de 10 mil dados e calcule o valor esperado para cadas uma das opções:\n",
    " - 1 dado de 12 faces\n",
    " - 2 dados de 6 faces\n",
    " \n",
    "Construa um gráfico de barras para cada opção com o número de vezes que cada face foi lançada.\n"
   ]
  }
 ],
 "metadata": {
  "kernelspec": {
   "display_name": "Python 3 (ipykernel)",
   "language": "python",
   "name": "python3"
  },
  "language_info": {
   "codemirror_mode": {
    "name": "ipython",
    "version": 3
   },
   "file_extension": ".py",
   "mimetype": "text/x-python",
   "name": "python",
   "nbconvert_exporter": "python",
   "pygments_lexer": "ipython3",
   "version": "3.12.2"
  }
 },
 "nbformat": 4,
 "nbformat_minor": 5
}
