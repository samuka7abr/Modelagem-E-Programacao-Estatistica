{
 "cells": [
  {
   "cell_type": "markdown",
   "metadata": {},
   "source": [
    "# Questão 1\n",
    "\n",
    "João e Maria estão jogando RPG, um jogo de imaginação em que as regras do mundo são ditadas por jogadas de dados.\n",
    "\n",
    "Em uma campanha, Maria encontra três itens que permitem aumentar os pontos de vida do jogador. Cada item vai aumentar o número obtido pela soma da jogada de diferentes dados, podendo ser dados de 4, 6, 8, 10 ou 12 faces. As regras para o cálculo do número de pontos de vida para cada item são:\n",
    "\n",
    " - Soma da jogada de 1 dado de 12 faces mais 1 dado de 10 faces. Se o resultado for menor que 7, adicionar 1 dado de 4 faces;\n",
    " - Soma da jogada de 2 dados de 6 faces e 2 dados de 4 faces. Se o resultado for menor que 7, adicionar 1 dado de 4 faces;\n",
    " - Soma da jogada de 6 dados de 4 faces. Se o resultado for menor que 7, adicionar 1 dado de 12 faces\n",
    "\n",
    "João não sabe qual item escolher, então Maria decide calcular quais seriam os valores esperados e dispersão desses valores para cada um dos itens.\n",
    "\n",
    "### Instruções\n",
    "\n",
    "Escreva um programa que simule a jogada de 10 mil dados e calcule a média e desvio-padrão para cadas uma das opções.\n",
    "\n",
    "Construa um gráfico de barras para cada opção com o número de vezes que cada face foi lançada e ajude João escolher a melhor opção."
   ]
  },
  {
   "cell_type": "markdown",
   "metadata": {},
   "source": [
    "# Questão 2\n",
    "\n",
    "Em um município do Brasil, sabe-se que  a idade dos habitantes não é conhecida, mas sabe-se que as seguintes faixas de idade seguem a seguinte distribuição de probabilidade:\n",
    " - 25% da população tem entre 0 e 12 anos\n",
    " - 50% da população tem entre 13 e 35 anos\n",
    " - 15% da população tem entre 35 e 55 anos\n",
    " - 10% da população tem mais de 56 anos\n",
    "\n",
    "Sabendo que o município tem 50 mil habitantes, simule a distribuição de idades desse município. Obtenha os valores das idades de cada faixa e adicione-os a uma lista.\n",
    "\n",
    "\n",
    "Para entender melhor a distribuição de probabilidade, obtenha um Histograma das idades obtidas no passo anterior, ou seja, um gráfico de barras em que cada barra reflete o número de vezes que o valor aparece no conjunto de dados.\n",
    "\n",
    "Calcule a média e desvio padrão desse conjunto de dados.\n",
    "\n",
    "Por fim, obtenha 100 amostras de 100 pessoas desse município e calcule a média de cada amostra. Obtenha um Histograma para o conjunto de médias obtido."
   ]
  },
  {
   "cell_type": "markdown",
   "metadata": {},
   "source": [
    "# Questão 3\n",
    "\n",
    "Em uma indústria farmacêutica aproximadamente 1% dos pacientes tratados com um novo remédio apresentam reação adversa. Considerando uma amostra de 2000 pacientes.\n",
    "a) Qual a distribuição de probabilidades utilizadas para o cálculo de probabilidades para este teste. Justifique a sua resposta.\n",
    "b) Calcule a probabilidade de 0 a 10 reações adversas (faça este cálculo pela distribuição Binomial e de Poisson e plote histogramas para cada um dos cálculos). Há diferença entre os valores encontrados? Em caso afirmativo, porque haveria esta diferença?\n",
    "c) Baseado nos cálculos anteriores, o remédio é seguro?"
   ]
  }
 ],
 "metadata": {
  "language_info": {
   "name": "python"
  }
 },
 "nbformat": 4,
 "nbformat_minor": 2
}
