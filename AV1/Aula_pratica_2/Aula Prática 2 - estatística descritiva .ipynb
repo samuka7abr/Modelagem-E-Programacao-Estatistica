{
 "cells": [
  {
   "cell_type": "markdown",
   "metadata": {},
   "source": [
    "## Voltando à tabela de salários\n",
    "\n",
    "A partir dos tópicos estudados de estatística descritiva, analise as variáveis do arquivo TabelaSalarial.csv.\n",
    "\n",
    "1) Calcule as medidas de centralidade e dispersão das variáveis;\n",
    "\n",
    "2) Plote histogramas de todas as variáveis;\n",
    "\n",
    "3) Faça o boxplot de todas as variáveis.\n",
    "\n",
    "4) Escreva uma análise de todas as variáveis, no formato texto corrido, com as informações que vocês geraram nos itens anteriores (Procurem escrever um texto como se estivessem apresentando as informações para uma pessoa leiga)\n",
    "\n",
    "O prazo final para entrega desta atividade é dia 21 de agosto, quarta-feira, às 23h59"
   ]
  }
 ],
 "metadata": {
  "language_info": {
   "name": "python"
  }
 },
 "nbformat": 4,
 "nbformat_minor": 2
}
