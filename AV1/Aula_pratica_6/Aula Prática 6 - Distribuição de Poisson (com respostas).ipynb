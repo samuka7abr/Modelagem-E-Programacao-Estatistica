{
 "cells": [
  {
   "cell_type": "markdown",
   "metadata": {},
   "source": [
    "# Distribuição de Poisson\n",
    "\n",
    "## Problemas motivadores\n",
    "\n",
    "1) Se a probabilidade de um indivíduo sofre uma reação nociva de um determinado remédio é de 0,1%, determine a probabilidade de, entre 2000 indivíduos: _(a)_ exatamente 3 sofrerem reação nociva; _(b)_ mais do que 2, sofrerem tal reação. Baseado nestas informações o remédio apresentado é seguro à saúde?\n",
    "\n",
    "2) De acordo com o departamento de trânsito de um determinado estado, o número médio de acidentes em um determinado trecho de rodovia é de 3 a cada 100 mil veículos que passa pelo local. Sabendo que a população da cidade onde encontra-se tal trecho é de 200 mil habitantes, calcule a probabilidade de haver: _(a)_ 0 (zero) acidentes; _(b)_ 2 acidentes; _(c)_ 6 acidentes; _(d)_ 8 acidentes; _(e)_ 10 acidentes; _(f)_ entre 4 e 10 acidentes. Utilize um histograma para plotar os resultados encontrados e analise se o local precisa de uma intervenção de segurança.\n",
    "\n",
    "3) Se em uma indústria aproximadamente 3% da produção apresenta algum defeito de fabricação, calcule a probabilidade de, em uma amostra de 100 peças, possuir: _(a)_ 0 defeituosas; _(b)_ 1 defeituosa; _(c)_ 2 defeituosas; _(d)_ 3 defeituosas; _(e)_ 4 defeituosas. Os resultados apresentados pela companhia, são satisfatórios? Justifique (utilize histogramas para ajudar em sua análise).\n",
    "\n",
    "4) Após o sucesso de sua passagem na indústria anterior, você foi contratado por uma outra indústria para trabalhar em um projeto análogo. Nesta nova companhia, o número de peças que apresentam algum defeito é de 10% da produção. Determine a probabilidade de, em uma amostra de 10 peças escolhidas ao acaso, exatamente duas serem defeituosas, mediante a seguinte análise: _(a)_ distribuição **binomial**; _(b)_ distribuição/aproximação de **Poisson**.\n",
    "\n",
    "Baseado nos problemas **4** e **5** determine os critérios em que a **_Distribuição de Poisson_** é vantajosa em relação à **_Distribuição Binomial_**. Explique porque é possível considerar estas duas distribuições. Qual a principal diferença entre essas distribuições e a distribuição normal?\n",
    "\n",
    "\n",
    "\n"
   ]
  },
  {
   "cell_type": "code",
   "execution_count": 3,
   "metadata": {},
   "outputs": [],
   "source": [
    "import numpy\n",
    "import pandas\n",
    "import matplotlib.pyplot as plt\n",
    "from scipy.stats import poisson"
   ]
  },
  {
   "cell_type": "code",
   "execution_count": 4,
   "metadata": {},
   "outputs": [
    {
     "name": "stdout",
     "output_type": "stream",
     "text": [
      "0.18044704431548356\n",
      "0.3233235838169366\n"
     ]
    }
   ],
   "source": [
    "## Problema 1\n",
    "p = 0.001\n",
    "mu = p*2000\n",
    "\n",
    "prob_3 = poisson.pmf(3,mu)\n",
    "prob_2 = 1 - poisson.cdf(2,mu)\n",
    "print(prob_3)\n",
    "print(prob_2)"
   ]
  },
  {
   "cell_type": "code",
   "execution_count": null,
   "metadata": {},
   "outputs": [],
   "source": [
    "## Problema 2\n",
    "p = 3/100000\n",
    "mu = p*200000\n",
    "\n",
    "prob_0 = poisson.pmf(0,mu)\n",
    "print(prob_0)\n",
    "\n",
    "prob_2 = poisson.pmf(2,mu)\n",
    "print(prob_2)\n",
    "\n",
    "prob_4 = poisson.pmf(4,mu)\n",
    "print(prob_4)\n",
    "\n",
    "prob_6 = poisson.pmf(6,mu)\n",
    "print(prob_6)\n",
    "\n",
    "prob_8 = poisson.pmf(8,mu)\n",
    "print(prob_8)\n",
    "\n",
    "prob_10 = poisson.pmf(10,mu)\n",
    "print(prob_10)\n",
    "\n",
    "prob4a10 = prob_4 + prob_6 + prob_8 + prob_10\n",
    "print(prob4a10)\n",
    "\n",
    "## dados = [prob_0,prob_2,prob_4,prob_6,prob_8,prob_10]\n",
    "## plt.hist(dados, align='left', density=True, rwidth=0.8, alpha=0.7)"
   ]
  },
  {
   "cell_type": "code",
   "execution_count": 1,
   "metadata": {},
   "outputs": [
    {
     "data": {
      "image/png": "[encoded data removed]",
      "text/plain": [
       "<Figure size 640x480 with 1 Axes>"
      ]
     },
     "metadata": {},
     "output_type": "display_data"
    }
   ],
   "source": [
    "## Problema 2 (com geração de números aleatórios)\n",
    "import numpy as np\n",
    "import matplotlib.pyplot as plt\n",
    "\n",
    "num_acidentes = np.random.poisson(3, 100000)\n",
    "\n",
    "plt.hist(num_acidentes, bins=range(11), align='left', density=True, rwidth=0.8, alpha=0.7)\n",
    "plt.xticks(range(11))\n",
    "plt.xlabel('Número de acidentes')\n",
    "plt.ylabel('Probabilidade')\n",
    "plt.title('Distribuição de Poisson - Número de acidentes')\n",
    "plt.grid(True)\n",
    "plt.show()"
   ]
  },
  {
   "cell_type": "code",
   "execution_count": null,
   "metadata": {},
   "outputs": [],
   "source": [
    "## Problema 3\n",
    "\n",
    "p = 0.03\n",
    "mu = p * 100\n",
    "\n",
    "prob_0 = poisson.pmf(0,mu)\n",
    "print(prob_0)\n",
    "\n",
    "prob_1 = poisson.pmf(1,mu)\n",
    "print(prob_1)\n",
    "\n",
    "prob_2 = poisson.pmf(2,mu)\n",
    "print(prob_2)\n",
    "\n",
    "prob_3 = poisson.pmf(3,mu)\n",
    "print(prob_3)\n",
    "\n",
    "prob_4 = poisson.pmf(4,mu)\n",
    "print(prob_4)"
   ]
  },
  {
   "cell_type": "code",
   "execution_count": null,
   "metadata": {},
   "outputs": [],
   "source": [
    "## Problema 4\n",
    "\n",
    "from scipy.stats import binom\n",
    "\n",
    "p = 0.1\n",
    "n = 10\n",
    "\n",
    "prob_binom = binom.pmf(2, n, p)\n",
    "print(prob_binom)\n",
    "prob_poisson = poisson.pmf(2,n*p)\n",
    "print(prob_poisson)"
   ]
  },
  {
   "cell_type": "markdown",
   "metadata": {},
   "source": [
    "# A distribuição de Poisson\n",
    "\n",
    "A Distribuição de Poisson é uma distribuição de probabilidade **discreta** que modela a **ocorrência de eventos raros** em um intervalo específico de tempo ou espaço. Ela é usada quando se quer calcular a probabilidade de um determinado número de eventos ocorrerem em um intervalo fixo, dado um taxa média de ocorrência desses eventos.\n",
    "\n",
    "A distribuição de Poisson é caracterizada por um único parâmetro lambda (λ), que representa a taxa média de ocorrência dos eventos no intervalo de interesse. A função de probabilidade de Poisson é dada por:\n",
    "\n",
    " $ \\begin{align} P(X = k) = \\frac{e^\\lambda \\cdot \\lambda^k}{k!} \\end {align} $\n",
    "\n",
    "onde:\n",
    "- $ P(X=k)$ é a probabilidade de ocorrerem $k$ eventos no intervalo;\n",
    "\n",
    "- $ e $ é a base do logaritmo natural (aproximadamente 2.71828);\n",
    "\n",
    "- $ \\lambda $ é a taxa média de ocorrência dos eventos no intervalo;\n",
    "\n",
    "- $ k $ é o número de eventos que queremos calcular a probabilidade.\n",
    "\n",
    "A média $ \\mu$ e a variância $ \\sigma^2 $ de uma distribuição de Poisson são iguais ao parâmetro $\\lambda$\n",
    "$ \\begin{align} \\lambda = \\mu = \\sigma^2 \\end {align} $\n",
    "\n",
    "A distribuição de Poisson é amplamente utilizada em machine learning e ciência de dados para modelar e analisar dados que representam a contagem de eventos raros em um intervalo de tempo ou espaço. Ela pode ser aplicada em diversas áreas, como análise de tráfego em redes, análise de ocorrências de eventos em séries temporais, previsão de demanda em negócios, entre outras.\n",
    "\n",
    "Exemplos de uso em machine learning e ciência de dados:\n",
    "\n",
    "- **Análise de tráfego em redes:** A distribuição de Poisson pode ser usada para modelar o número de pacotes de dados que chegam em um roteador durante um determinado intervalo de tempo. Isso é útil para entender a carga na rede e otimizar a capacidade de transmissão.\n",
    "\n",
    "- **Análise de ocorrências de eventos:** Em séries temporais, a distribuição de Poisson pode ser aplicada para modelar o número de ocorrências de eventos, como vendas em uma loja, downloads de aplicativos, cliques em anúncios, etc. Isso permite identificar padrões e tendências ao longo do tempo.\n",
    "Previsão de demanda em negócios: A distribuição de Poisson pode ser usada para prever a demanda de produtos ou serviços com base em dados históricos de vendas. Isso é útil para o planejamento de estoque e produção.\n",
    "\n",
    "- **Análise de defeitos em processos de fabricação:** Em processos industriais, a distribuição de Poisson pode ser usada para modelar o número de defeitos em um lote de produtos fabricados. Isso ajuda a identificar problemas no processo de fabricação e melhorar a qualidade do produto.\n",
    "\n",
    "- **Detecção de anomalias:** A distribuição de Poisson também é útil na detecção de anomalias em dados, onde um número significativamente maior ou menor de eventos ocorre do que o esperado. Isso pode ser aplicado em sistemas de segurança, detecção de fraudes, entre outros.\n",
    "\n",
    "Em suma, a distribuição de Poisson é uma ferramenta importante em machine learning e ciência de dados para modelar e analisar dados de contagem de eventos raros, permitindo a compreensão de padrões e a tomada de decisões informadas em diversas áreas.\n",
    "\n",
    "Fonte: https://k3ybladewielder.medium.com/estat%C3%ADstica-para-data-science-2-8-3c1961adc94e"
   ]
  },
  {
   "cell_type": "markdown",
   "metadata": {},
   "source": [
    "## Relação entre as distribuições binomial e de Poisson\n",
    "\n",
    "Na distribuição binomial se $N$ for muito grande, enquanto a probabilidade $p$ da ocorrência de um evento for próxima de zero, de modo que $q=(1-p)$ tende para 1, o evento será denominado **raro**. Na prática, considera-se um evento como raro quando o número de tentativas é, pelo menos, igual a 50 ($ N \\geq 50 $), ao passo qeu $N_p$ é menor que 5.\n",
    "\n",
    "Nesses casos, a distribuição binomial é muito aproximada da de Poisson, com $ \\lambda = Np$, $p\\approx 0$ e $q \\approx 1$.\n",
    "\n",
    "Como há uma relação entre as distribuições binomial e normal, conclui-se que também há uma relação entre as distribuições normal e de Poisson. De fato, a distribuição de Poisson se aproxima de uma normal, com a variável reduzida:\n",
    "\n",
    "$ \\begin{align} \\frac{X-\\mu}{\\sqrt{\\lambda}} \\end {align} $\n",
    "\n",
    "quando $\\lambda$ cresce indefinidamente.\n"
   ]
  },
  {
   "cell_type": "markdown",
   "metadata": {},
   "source": [
    "### Exercício\n",
    "\n",
    "1) Gere números aleatórios, distribuídos de acordo com a distribuição de Poisson. Gere histogramas e mude o valor $\\lambda$. Plote nos resultados um ajuste de curvas normal e verifique o acontece com o histograma dos valores distribuídos e acurva teórica.\n",
    "\n",
    "2) Gere um conjunto de dados aleatórios distribuídos de acordo com a distribuição normal, binomial e de Poisson que lhe permitam concluir quando as 3 distribuições se aproximam."
   ]
  }
 ],
 "metadata": {
  "kernelspec": {
   "display_name": "Python 3",
   "language": "python",
   "name": "python3"
  },
  "language_info": {
   "codemirror_mode": {
    "name": "ipython",
    "version": 3
   },
   "file_extension": ".py",
   "mimetype": "text/x-python",
   "name": "python",
   "nbconvert_exporter": "python",
   "pygments_lexer": "ipython3",
   "version": "3.11.2"
  }
 },
 "nbformat": 4,
 "nbformat_minor": 2
}
