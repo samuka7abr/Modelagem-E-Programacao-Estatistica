{
 "cells": [
  {
   "cell_type": "markdown",
   "metadata": {},
   "source": [
    "# Distribuição de Poisson\n",
    "\n",
    "## Problemas motivadores\n",
    "\n",
    "1) Se a probabilidade de um indivíduo sofre uma reação nociva de um determinado remédio é de 0,1%, determine a probabilidade de, entre 2000 indivíduos: _(a)_ exatamente 3 sofrerem reação nociva; _(b)_ mais do que 2, sofrerem tal reação. Baseado nestas informações o remédio apresentado é seguro à saúde?\n",
    "\n",
    "2) De acordo com o departamento de trânsito de um determinado estado, o número médio de acidentes em um determinado trecho de rodovia é de 3 a cada 100 mil veículos que passa pelo local. Sabendo que a população da cidade onde encontra-se tal trecho é de 200 mil habitantes, calcule a probabilidade de haver: _(a)_ 0 (zero) acidentes; _(b)_ 2 acidentes; _(c)_ 6 acidentes; _(d)_ 8 acidentes; _(e)_ 10 acidentes; _(f)_ entre 4 e 10 acidentes. Utilize um histograma para plotar os resultados encontrados e analise se o local precisa de uma intervenção de segurança.\n",
    "\n",
    "3) Se em uma indústria aproximadamente 3% da produção apresenta algum defeito de fabricação, calcule a probabilidade de, em uma amostra de 100 peças, possuir: _(a)_ 0 defeituosas; _(b)_ 1 defeituosa; _(c)_ 2 defeituosas; _(d)_ 3 defeituosas; _(e)_ 4 defeituosas. Os resultados apresentados pela companhia, são satisfatórios? Justifique (utilize histogramas para ajudar em sua análise).\n",
    "\n",
    "4) Após o sucesso de sua passagem na indústria anterior, você foi contratado por uma outra indústria para trabalhar em um projeto análogo. Nesta nova companhia, o número de peças que apresentam algum defeito é de 10% da produção. Determine a probabilidade de, em uma amostra de 10 peças escolhidas ao acaso, exatamente duas serem defeituosas, mediante a seguinte análise: _(a)_ distribuição **binomial**; _(b)_ distribuição/aproximação de **Poisson**.\n",
    "\n",
    "Baseado nos problemas **4** e **5** determine os critérios em que a **_Distribuição de Poisson_** é vantajosa em relação à **_Distribuição Binomial_**. Explique porque é possível considerar estas duas distribuições. Qual a principal diferença entre essas distribuições e a distribuição normal?\n",
    "\n",
    "\n",
    "\n"
   ]
  },
  {
   "cell_type": "code",
   "execution_count": null,
   "metadata": {},
   "outputs": [],
   "source": []
  }
 ],
 "metadata": {
  "language_info": {
   "name": "python"
  }
 },
 "nbformat": 4,
 "nbformat_minor": 2
}
