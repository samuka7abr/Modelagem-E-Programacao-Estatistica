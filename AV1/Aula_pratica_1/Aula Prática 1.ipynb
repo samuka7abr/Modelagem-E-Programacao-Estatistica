{
 "cells": [
  {
   "cell_type": "markdown",
   "metadata": {},
   "source": [
    "# Começando em Python...\n",
    "\n",
    "O objetivo desta aula bem com sua atividade é apresentar algumas características do Python e, neste primeiro momento, algumas funcionalidades básicas e bibliotecas importantes\n",
    "\n",
    "## 1º Exemplo: O clássico \"Olá Mundo!\"\n",
    " "
   ]
  },
  {
   "cell_type": "code",
   "execution_count": null,
   "metadata": {},
   "outputs": [],
   "source": [
    "#Para escrever algo em tela, após compilação, basta usar o comando 'print', como na sintaxe abaixo\n",
    "print(\"Olá mundo\")\n",
    "\n",
    "# Comentários iniciam-se com hashtag e não precisam ser fechados\n",
    "# Comentários não aparecem na saída do código após o mesmo ser compilado e também não tem quebra de linha\n",
    "# Comentários também podem ser inseridos ao final de uma linha de comando\n",
    "\n",
    "print(\"olá mundo, de novo\")   #teste de comentário\n",
    "\n"
   ]
  },
  {
   "cell_type": "markdown",
   "metadata": {},
   "source": [
    "## 2º Exemplo: Variáveis\n",
    "\n",
    "Variáveis são nomes associados a objetos em particular. Elas podem ser uma referências, um ponteiro ou um endereço. "
   ]
  },
  {
   "cell_type": "code",
   "execution_count": null,
   "metadata": {},
   "outputs": [],
   "source": [
    "mensagem = \"nossa aula de teste\"\n",
    "\n",
    "print(mensagem)\n",
    "print(type(mensagem))\n",
    "\n",
    "\"\"\"\n",
    "Este bloco de comentários aparece após a compilação do código\n",
    "\"\"\""
   ]
  },
  {
   "cell_type": "markdown",
   "metadata": {},
   "source": [
    "O bom senso indica que o nome das variáveis tenham relação com o que representam e não sejam muito longas, para evitar eventuais problemas.\n",
    "\n",
    "### Importante\n",
    "Nomes de variáveis em Python aceitam letras maiúsculas, minúsculas (Case Sensitive) além de números e o símbolo de subscrito ( _ ).\n",
    "\n",
    "As variáveis podem apresentar termos compostos, com letras minúsculas, separadas por subscrito, o que é conhecido com snake_case.\n",
    "\n",
    "Também é possível combinar letras maiúsculas e minúsculas, que denomina-se PacalCase."
   ]
  },
  {
   "cell_type": "markdown",
   "metadata": {},
   "source": [
    "## Palavras chave\n",
    "\n",
    "Algumas palavras são de uso exclusivo da linguagem (syntax) e não podem ser utilizadas como nome de variáveis. Para saber quais estas palavras, basta digitar o comando help(\"keywords\")"
   ]
  },
  {
   "cell_type": "code",
   "execution_count": null,
   "metadata": {},
   "outputs": [],
   "source": [
    "help(\"keywords\")"
   ]
  },
  {
   "cell_type": "markdown",
   "metadata": {},
   "source": [
    "## Ainda mais sobre variáveis\n",
    "Em relação a números podemos utilizar Inteiros, Pontos flutuantes (números com casas decimais) e números complexos.\n",
    "\n",
    "###Importante:\n",
    "Em Python as casas decimais de um número são separadas por ponto!"
   ]
  },
  {
   "cell_type": "code",
   "execution_count": null,
   "metadata": {},
   "outputs": [],
   "source": [
    "# Tipos de variáveis\n",
    "# int\n",
    "a = 1\n",
    "b = 2\n",
    "print(a+b)\n",
    "print(type(a))\n",
    "# float\n",
    "c = 1.0\n",
    "d = 1.1\n",
    "print(c+d)\n",
    "type(c)\n",
    "x = complex(1,2)\n",
    "print(x)\n",
    "print(x+a)"
   ]
  },
  {
   "cell_type": "markdown",
   "metadata": {},
   "source": [
    "## Operadores"
   ]
  },
  {
   "cell_type": "code",
   "execution_count": null,
   "metadata": {},
   "outputs": [],
   "source": [
    "#Soma\n",
    "5 + 3\n",
    "\n",
    "#Subtração\n",
    "5-3\n",
    "\n",
    "#Multiplicação\n",
    "5*3\n",
    "\n",
    "#Divisão\n",
    "5/3\n",
    "\n",
    "#Parte inteira da divisão\n",
    "5//3\n",
    "\n",
    "#Resto da divisão\n",
    "5%3\n",
    "\n",
    "#Potência\n",
    "5**3"
   ]
  },
  {
   "cell_type": "markdown",
   "metadata": {},
   "source": [
    "## Operadores Booleanos\n",
    "\n",
    "Operadores booleanos são implementados como uma subclasse de inteiros, com apenas dois valores possíveis em Python \"True\" ou \"False\".\n",
    "Estes valores são úteis na comparação de lógica de valores (maior que >, menor que < ou igual ==) ou funções de predicado."
   ]
  },
  {
   "cell_type": "code",
   "execution_count": null,
   "metadata": {},
   "outputs": [],
   "source": [
    "2< 5\n",
    "\n",
    "4 > 10\n",
    "\n",
    "4 <= 3\n",
    "\n",
    "3>=3\n",
    "\n",
    "5==6\n",
    "\n",
    "6!=9  # o sinal != significa diferente"
   ]
  },
  {
   "cell_type": "markdown",
   "metadata": {},
   "source": [
    "## Strings\n",
    "\n",
    "Strings são fragmentos de textos ou caracteres e podem ser definidos usando aspas simples, duplas ou triplas.\n"
   ]
  },
  {
   "cell_type": "code",
   "execution_count": null,
   "metadata": {},
   "outputs": [],
   "source": [
    "#Aspas Simples\n",
    "mensagem = 'Hello world'\n",
    "mensagem"
   ]
  },
  {
   "cell_type": "code",
   "execution_count": null,
   "metadata": {},
   "outputs": [],
   "source": [
    "#Aspas Duplas\n",
    "mensagem = \"Hello world\"\n",
    "mensagem"
   ]
  },
  {
   "cell_type": "code",
   "execution_count": null,
   "metadata": {},
   "outputs": [],
   "source": [
    "#Aspas Triplas\n",
    "mensagem = \"\"\"Hello world\"\"\"\n",
    "mensagem"
   ]
  },
  {
   "cell_type": "code",
   "execution_count": null,
   "metadata": {},
   "outputs": [],
   "source": [
    "# Juntando expressões\n",
    "\"hello\" + \" \" + \"world\""
   ]
  },
  {
   "cell_type": "code",
   "execution_count": null,
   "metadata": {},
   "outputs": [],
   "source": [
    "#Maiúsculas\n",
    "\"hello world\".upper()"
   ]
  },
  {
   "cell_type": "code",
   "execution_count": null,
   "metadata": {},
   "outputs": [],
   "source": [
    "#Minúsculas\n",
    "\"HELLO WORLD\".lower()"
   ]
  },
  {
   "cell_type": "code",
   "execution_count": null,
   "metadata": {},
   "outputs": [],
   "source": [
    "#Retirando strings de uma expressão\n",
    "\n",
    "boas_vindas = \"Hello world\"\n",
    "boas_vindas[0:5]    # Importante que o contador deve começar em 0 (zero)"
   ]
  },
  {
   "cell_type": "markdown",
   "metadata": {},
   "source": [
    "## Vamos a um pequeno código..."
   ]
  },
  {
   "cell_type": "code",
   "execution_count": null,
   "metadata": {},
   "outputs": [],
   "source": [
    "tomou_cafe = False # True\n",
    "print(type(tomou_cafe))\n",
    "if tomou_cafe:\n",
    "    mensagem = \"Bom dia, turma querida!\"\n",
    "else:\n",
    "    mensagem = \"Vamos começar essa aula de uma vez!\"\n",
    "print(mensagem)"
   ]
  },
  {
   "cell_type": "code",
   "execution_count": null,
   "metadata": {},
   "outputs": [],
   "source": [
    "## Definição de função em Python\n",
    "\n",
    "def escrever_mensagem(mensagem=\"\"):\n",
    "    \n",
    "    # Este comentário gera o help da função\n",
    "    \"\"\"\n",
    "    Constrói a mensagem do professor Felipe\n",
    "    RETURNS: str\n",
    "    \"\"\"\n",
    "    mensagem = \"Prof. Felipe disse: \" + mensagem\n",
    "    return mensagem\n",
    "escrever_mensagem()\n",
    "print()\n",
    "print(escrever_mensagem('A função retorna este valor'))"
   ]
  },
  {
   "cell_type": "code",
   "execution_count": null,
   "metadata": {},
   "outputs": [],
   "source": [
    "help(escrever_mensagem)"
   ]
  },
  {
   "cell_type": "markdown",
   "metadata": {},
   "source": [
    "## Voltando à tabela de salários\n",
    "\n",
    "Rode os códigos abaixo, considerando o arquivo TabelaSalarial.csv e responda às perguntas ao final.\n",
    "\n",
    "O prazo final para entrega desta atividade é dia 14 de agosto, quarta-feira, às 23h59\n"
   ]
  },
  {
   "cell_type": "code",
   "execution_count": null,
   "metadata": {},
   "outputs": [],
   "source": [
    "import pandas as pd\n",
    "dados = pd.read_csv('TabelaSalarial.csv')\n",
    "dados.head()"
   ]
  },
  {
   "cell_type": "code",
   "execution_count": null,
   "metadata": {},
   "outputs": [],
   "source": [
    "import matplotlib\n",
    "dados.describe()"
   ]
  },
  {
   "cell_type": "markdown",
   "metadata": {},
   "source": [
    "### Perguntas:\n",
    "\n",
    "1) o que faz o código acima (dados.describe())?\n",
    "\n",
    "2) Quais informações são apresentadas?\n",
    "\n",
    "3) Todas as variáveis têm o mesmo número de informações?\n",
    "\n",
    "4) O que significa a variável \"mean\" e \"std\"?\n",
    "\n",
    "5) Considerando o o máximo, o mínimo, a média e o \"std\", o que podemos inferir sobre as variáveis nº de filhos, salário e idade?\n",
    "\n",
    "6) Por que não aparecem as variáveis \"Grau de instrução\" e \"Região de Procedência\"?\n",
    "\n",
    "7) Considerando todas as análises e informações coletadas, a média é um bom indicativo para os dados?\n",
    "\n",
    "8) Calcule a mediana e a moda dos dados apresentados na saída dados.describe(). Os valores encontrados são próximos à média?"
   ]
  }
 ],
 "metadata": {
  "kernelspec": {
   "display_name": "Python 3",
   "language": "python",
   "name": "python3"
  },
  "language_info": {
   "codemirror_mode": {
    "name": "ipython",
    "version": 3
   },
   "file_extension": ".py",
   "mimetype": "text/x-python",
   "name": "python",
   "nbconvert_exporter": "python",
   "pygments_lexer": "ipython3",
   "version": "3.11.6"
  }
 },
 "nbformat": 4,
 "nbformat_minor": 2
}
