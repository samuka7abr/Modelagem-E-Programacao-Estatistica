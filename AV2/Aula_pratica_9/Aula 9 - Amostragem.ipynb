{
 "cells": [
  {
   "cell_type": "markdown",
   "metadata": {},
   "source": [
    "# Teoria da Amostragem (conceitos breves...)\n",
    "\n",
    "A teoria da amostragem é um estudos das relações existentes entre uma população e as amostras dela extraídas. É de grande valia para a avaliação de grandezas desconhecidas da população (como sua média, variância e desvio padrão), frequentemente denominadas **_parâmetros populacionais_** ou abreviadamente **_parâmetros_**, através do conhecimento das grandezas correspondentes das amostras (também como média, desvio padrão, etc...) muitas vezes denominadas **_estatísticas amostrais_** ou, abreviadamente **_estatísticas_**.\n",
    "\n",
    "A teoria da amostragem também é útil para determinar se as difereças observadas entre duas amostras são realmente devidas a uma variação casual ou se são verdadeiramente significativas. Exemplos dessas diferenças são utilizados por exemplo em amostragem de testes clínicos, de produção ou em processos de aferição de qualidade. \n",
    "\n",
    "A **_inferência estatística_** nada mais é do que o estudo de uma população a partir de suas amostras, com a indicação da precisão destas inferências baseadas pelo conhecimento da teoria da probabilidade.\n",
    "\n",
    "**Amostras Aleatórias** são amostras selecionadas (um subconjunto de indivíduos ou objetos) a partir de uma população maior (um grupo completo de indivíduos ou objetos), de forma que cada membro da população tenha uma chance igual de ser escolhido. Tais amostras são desejáveis porque tendem a ser representativas da população e minimizam os vieses na análise.\n",
    "\n",
    "Pense na amostragem aleatória como um sorteio. Por exemplo, se você quiser estudar as opiniões dos habitantes de uma cidade sobre um tema específico, seria muito difícil e cansativo entrevistar todos os moradores. Então, em vez disso, você pode realizar uma amostragem aleatória, selecionando um número menor de habitantes de forma aleatória e imparcial. Assim, todos os moradores têm a mesma chance de serem escolhidos, e a amostra resultante pode ser usada para inferir informações sobre a população como um todo.\n",
    "\n",
    "Essa abordagem permite que os pesquisadores façam generalizações e estimativas sobre a população maior com base nos dados coletados da amostra. Quando a amostragem aleatória é realizada corretamente, a amostra tende a refletir as características da população maior, tornando as análises mais precisas e confiáveis.\n",
    "\n",
    "Há várias técnicas para escolher uma amostra que represente bem a população maior. Aqui, vamos falar sobre quatro dessas técnicas:\n",
    "\n",
    "- Amostragem Aleatória Simples\n",
    "- Amostragem Sistemática\n",
    "- Amostragem Aleatória Estratificada\n",
    "- Amostragem por Conglomerado\n",
    "\n",
    "Para muitos casos, tipo a distribuição de médias, o teorema central do limite vai nos ajudar teoricamente, pois sabemos que os dados da ditribuição de amostragem converge para uma normal. Assim, para amostras maiores que 25 ($ N>25$) as amostras tendem a se comportar como uma distribuição normal, e o conhecimento da distribuição normal torna-se útil para facilitar a análise e possíveis inferências sobre a população. Embora se fala muito de big data, na prática, são boas amostras que são utilizadas para responder boas (e a maioria das) perguntas.\n",
    "\n",
    "## Amostragem aleatória simples\n",
    "\n",
    "Na amostragem aleatória simples, cada elemento da população tem a mesma chance de ser selecionado. Por exemplo, ao realizar uma pesquisa de opinião, podemos selecionar aleatoriamente um grupo de pessoas para entrevistar. Nesse método, escolhemos um grupo de pessoas ou coisas de forma completamente aleatória, dando a todos na população a mesma chance de serem selecionados.\n",
    "\n",
    "Para trabalhar a ideia de amostragem, vamos utilizar o arquivo **diamonds(1).csv**.\n"
   ]
  },
  {
   "cell_type": "code",
   "execution_count": 1,
   "metadata": {},
   "outputs": [],
   "source": [
    "import numpy as np\n",
    "import matplotlib.pyplot as plt\n",
    "import pandas as pd\n",
    "import seaborn as sns\n",
    "import random"
   ]
  },
  {
   "cell_type": "code",
   "execution_count": 4,
   "metadata": {},
   "outputs": [
    {
     "data": {
      "text/html": [
       "<div>\n",
       "<style scoped>\n",
       "    .dataframe tbody tr th:only-of-type {\n",
       "        vertical-align: middle;\n",
       "    }\n",
       "\n",
       "    .dataframe tbody tr th {\n",
       "        vertical-align: top;\n",
       "    }\n",
       "\n",
       "    .dataframe thead th {\n",
       "        text-align: right;\n",
       "    }\n",
       "</style>\n",
       "<table border=\"1\" class=\"dataframe\">\n",
       "  <thead>\n",
       "    <tr style=\"text-align: right;\">\n",
       "      <th></th>\n",
       "      <th>carat</th>\n",
       "      <th>cut</th>\n",
       "      <th>color</th>\n",
       "      <th>clarity</th>\n",
       "      <th>depth</th>\n",
       "      <th>table</th>\n",
       "      <th>price</th>\n",
       "      <th>x</th>\n",
       "      <th>y</th>\n",
       "      <th>z</th>\n",
       "    </tr>\n",
       "  </thead>\n",
       "  <tbody>\n",
       "    <tr>\n",
       "      <th>0</th>\n",
       "      <td>0.23</td>\n",
       "      <td>Ideal</td>\n",
       "      <td>E</td>\n",
       "      <td>SI2</td>\n",
       "      <td>61.5</td>\n",
       "      <td>55.0</td>\n",
       "      <td>326</td>\n",
       "      <td>3.95</td>\n",
       "      <td>3.98</td>\n",
       "      <td>2.43</td>\n",
       "    </tr>\n",
       "    <tr>\n",
       "      <th>1</th>\n",
       "      <td>0.21</td>\n",
       "      <td>Premium</td>\n",
       "      <td>E</td>\n",
       "      <td>SI1</td>\n",
       "      <td>59.8</td>\n",
       "      <td>61.0</td>\n",
       "      <td>326</td>\n",
       "      <td>3.89</td>\n",
       "      <td>3.84</td>\n",
       "      <td>2.31</td>\n",
       "    </tr>\n",
       "    <tr>\n",
       "      <th>2</th>\n",
       "      <td>0.23</td>\n",
       "      <td>Good</td>\n",
       "      <td>E</td>\n",
       "      <td>VS1</td>\n",
       "      <td>56.9</td>\n",
       "      <td>65.0</td>\n",
       "      <td>327</td>\n",
       "      <td>4.05</td>\n",
       "      <td>4.07</td>\n",
       "      <td>2.31</td>\n",
       "    </tr>\n",
       "    <tr>\n",
       "      <th>3</th>\n",
       "      <td>0.29</td>\n",
       "      <td>Premium</td>\n",
       "      <td>I</td>\n",
       "      <td>VS2</td>\n",
       "      <td>62.4</td>\n",
       "      <td>58.0</td>\n",
       "      <td>334</td>\n",
       "      <td>4.20</td>\n",
       "      <td>4.23</td>\n",
       "      <td>2.63</td>\n",
       "    </tr>\n",
       "    <tr>\n",
       "      <th>4</th>\n",
       "      <td>0.31</td>\n",
       "      <td>Good</td>\n",
       "      <td>J</td>\n",
       "      <td>SI2</td>\n",
       "      <td>63.3</td>\n",
       "      <td>58.0</td>\n",
       "      <td>335</td>\n",
       "      <td>4.34</td>\n",
       "      <td>4.35</td>\n",
       "      <td>2.75</td>\n",
       "    </tr>\n",
       "  </tbody>\n",
       "</table>\n",
       "</div>"
      ],
      "text/plain": [
       "   carat      cut color clarity  depth  table  price     x     y     z\n",
       "0   0.23    Ideal     E     SI2   61.5   55.0    326  3.95  3.98  2.43\n",
       "1   0.21  Premium     E     SI1   59.8   61.0    326  3.89  3.84  2.31\n",
       "2   0.23     Good     E     VS1   56.9   65.0    327  4.05  4.07  2.31\n",
       "3   0.29  Premium     I     VS2   62.4   58.0    334  4.20  4.23  2.63\n",
       "4   0.31     Good     J     SI2   63.3   58.0    335  4.34  4.35  2.75"
      ]
     },
     "execution_count": 4,
     "metadata": {},
     "output_type": "execute_result"
    }
   ],
   "source": [
    "df = pd.read_csv('diamonds.csv')\n",
    "df.head()"
   ]
  },
  {
   "cell_type": "code",
   "execution_count": 6,
   "metadata": {},
   "outputs": [
    {
     "data": {
      "text/plain": [
       "<AxesSubplot: xlabel='carat', ylabel='Count'>"
      ]
     },
     "execution_count": 6,
     "metadata": {},
     "output_type": "execute_result"
    },
    {
     "data": {
      "image/png": "[encoded data removed]",
      "text/plain": [
       "<Figure size 640x480 with 1 Axes>"
      ]
     },
     "metadata": {},
     "output_type": "display_data"
    }
   ],
   "source": [
    "sns.histplot(df['carat'])"
   ]
  },
  {
   "cell_type": "code",
   "execution_count": 10,
   "metadata": {},
   "outputs": [
    {
     "data": {
      "text/plain": [
       "(10788, 10)"
      ]
     },
     "execution_count": 10,
     "metadata": {},
     "output_type": "execute_result"
    }
   ],
   "source": [
    "## Explique o que este código está fazendo está fazendo\n",
    "## np.random.seed(1)\n",
    "\n",
    "amostra_simples = df.sample(frac=0.20)\n",
    "amostra_simples.shape\n",
    "#está criando uma variável de amostra usando a função sample, que pega uma parte aleatória dos dados (no caso, 20% (frac=0.20)) e\n"
   ]
  },
  {
   "cell_type": "code",
   "execution_count": null,
   "metadata": {},
   "outputs": [
    {
     "data": {
      "text/html": [
       "<div>\n",
       "<style scoped>\n",
       "    .dataframe tbody tr th:only-of-type {\n",
       "        vertical-align: middle;\n",
       "    }\n",
       "\n",
       "    .dataframe tbody tr th {\n",
       "        vertical-align: top;\n",
       "    }\n",
       "\n",
       "    .dataframe thead th {\n",
       "        text-align: right;\n",
       "    }\n",
       "</style>\n",
       "<table border=\"1\" class=\"dataframe\">\n",
       "  <thead>\n",
       "    <tr style=\"text-align: right;\">\n",
       "      <th></th>\n",
       "      <th>carat</th>\n",
       "      <th>cut</th>\n",
       "      <th>color</th>\n",
       "      <th>clarity</th>\n",
       "      <th>depth</th>\n",
       "      <th>table</th>\n",
       "      <th>price</th>\n",
       "      <th>x</th>\n",
       "      <th>y</th>\n",
       "      <th>z</th>\n",
       "    </tr>\n",
       "  </thead>\n",
       "  <tbody>\n",
       "    <tr>\n",
       "      <th>33522</th>\n",
       "      <td>0.34</td>\n",
       "      <td>Ideal</td>\n",
       "      <td>E</td>\n",
       "      <td>VS2</td>\n",
       "      <td>62.2</td>\n",
       "      <td>57.0</td>\n",
       "      <td>829</td>\n",
       "      <td>4.46</td>\n",
       "      <td>4.42</td>\n",
       "      <td>2.76</td>\n",
       "    </tr>\n",
       "    <tr>\n",
       "      <th>30261</th>\n",
       "      <td>0.40</td>\n",
       "      <td>Ideal</td>\n",
       "      <td>H</td>\n",
       "      <td>VS2</td>\n",
       "      <td>61.4</td>\n",
       "      <td>55.0</td>\n",
       "      <td>725</td>\n",
       "      <td>4.76</td>\n",
       "      <td>4.78</td>\n",
       "      <td>2.93</td>\n",
       "    </tr>\n",
       "    <tr>\n",
       "      <th>14672</th>\n",
       "      <td>1.32</td>\n",
       "      <td>Premium</td>\n",
       "      <td>I</td>\n",
       "      <td>SI2</td>\n",
       "      <td>58.4</td>\n",
       "      <td>60.0</td>\n",
       "      <td>5921</td>\n",
       "      <td>7.24</td>\n",
       "      <td>7.15</td>\n",
       "      <td>4.20</td>\n",
       "    </tr>\n",
       "    <tr>\n",
       "      <th>43549</th>\n",
       "      <td>0.52</td>\n",
       "      <td>Very Good</td>\n",
       "      <td>D</td>\n",
       "      <td>SI1</td>\n",
       "      <td>61.6</td>\n",
       "      <td>58.0</td>\n",
       "      <td>1429</td>\n",
       "      <td>5.14</td>\n",
       "      <td>5.22</td>\n",
       "      <td>3.19</td>\n",
       "    </tr>\n",
       "    <tr>\n",
       "      <th>6229</th>\n",
       "      <td>0.90</td>\n",
       "      <td>Good</td>\n",
       "      <td>F</td>\n",
       "      <td>SI1</td>\n",
       "      <td>58.8</td>\n",
       "      <td>60.0</td>\n",
       "      <td>4004</td>\n",
       "      <td>6.22</td>\n",
       "      <td>6.26</td>\n",
       "      <td>3.67</td>\n",
       "    </tr>\n",
       "    <tr>\n",
       "      <th>...</th>\n",
       "      <td>...</td>\n",
       "      <td>...</td>\n",
       "      <td>...</td>\n",
       "      <td>...</td>\n",
       "      <td>...</td>\n",
       "      <td>...</td>\n",
       "      <td>...</td>\n",
       "      <td>...</td>\n",
       "      <td>...</td>\n",
       "      <td>...</td>\n",
       "    </tr>\n",
       "    <tr>\n",
       "      <th>45332</th>\n",
       "      <td>0.51</td>\n",
       "      <td>Ideal</td>\n",
       "      <td>E</td>\n",
       "      <td>VS2</td>\n",
       "      <td>62.9</td>\n",
       "      <td>57.0</td>\n",
       "      <td>1662</td>\n",
       "      <td>5.11</td>\n",
       "      <td>5.07</td>\n",
       "      <td>3.20</td>\n",
       "    </tr>\n",
       "    <tr>\n",
       "      <th>33455</th>\n",
       "      <td>0.32</td>\n",
       "      <td>Ideal</td>\n",
       "      <td>G</td>\n",
       "      <td>VS1</td>\n",
       "      <td>62.3</td>\n",
       "      <td>56.0</td>\n",
       "      <td>828</td>\n",
       "      <td>4.39</td>\n",
       "      <td>4.37</td>\n",
       "      <td>2.73</td>\n",
       "    </tr>\n",
       "    <tr>\n",
       "      <th>25835</th>\n",
       "      <td>2.23</td>\n",
       "      <td>Premium</td>\n",
       "      <td>J</td>\n",
       "      <td>VS2</td>\n",
       "      <td>61.0</td>\n",
       "      <td>58.0</td>\n",
       "      <td>14867</td>\n",
       "      <td>8.39</td>\n",
       "      <td>8.36</td>\n",
       "      <td>5.11</td>\n",
       "    </tr>\n",
       "    <tr>\n",
       "      <th>21103</th>\n",
       "      <td>1.30</td>\n",
       "      <td>Ideal</td>\n",
       "      <td>D</td>\n",
       "      <td>SI1</td>\n",
       "      <td>62.2</td>\n",
       "      <td>56.0</td>\n",
       "      <td>9275</td>\n",
       "      <td>6.98</td>\n",
       "      <td>6.94</td>\n",
       "      <td>4.33</td>\n",
       "    </tr>\n",
       "    <tr>\n",
       "      <th>29572</th>\n",
       "      <td>0.41</td>\n",
       "      <td>Good</td>\n",
       "      <td>F</td>\n",
       "      <td>SI1</td>\n",
       "      <td>63.5</td>\n",
       "      <td>56.0</td>\n",
       "      <td>705</td>\n",
       "      <td>4.70</td>\n",
       "      <td>4.75</td>\n",
       "      <td>3.00</td>\n",
       "    </tr>\n",
       "  </tbody>\n",
       "</table>\n",
       "<p>15000 rows × 10 columns</p>\n",
       "</div>"
      ],
      "text/plain": [
       "       carat        cut color clarity  depth  table  price     x     y     z\n",
       "33522   0.34      Ideal     E     VS2   62.2   57.0    829  4.46  4.42  2.76\n",
       "30261   0.40      Ideal     H     VS2   61.4   55.0    725  4.76  4.78  2.93\n",
       "14672   1.32    Premium     I     SI2   58.4   60.0   5921  7.24  7.15  4.20\n",
       "43549   0.52  Very Good     D     SI1   61.6   58.0   1429  5.14  5.22  3.19\n",
       "6229    0.90       Good     F     SI1   58.8   60.0   4004  6.22  6.26  3.67\n",
       "...      ...        ...   ...     ...    ...    ...    ...   ...   ...   ...\n",
       "45332   0.51      Ideal     E     VS2   62.9   57.0   1662  5.11  5.07  3.20\n",
       "33455   0.32      Ideal     G     VS1   62.3   56.0    828  4.39  4.37  2.73\n",
       "25835   2.23    Premium     J     VS2   61.0   58.0  14867  8.39  8.36  5.11\n",
       "21103   1.30      Ideal     D     SI1   62.2   56.0   9275  6.98  6.94  4.33\n",
       "29572   0.41       Good     F     SI1   63.5   56.0    705  4.70  4.75  3.00\n",
       "\n",
       "[15000 rows x 10 columns]"
      ]
     },
     "execution_count": 12,
     "metadata": {},
     "output_type": "execute_result"
    }
   ],
   "source": [
    "## Explique o que este código está fazendo está fazendo\n",
    "## np.random.seed(2)\n",
    "\n",
    "amostra_simples1 = df.sample(15000)\n",
    "\n",
    "amostra_simples1.shape"
   ]
  },
  {
   "cell_type": "markdown",
   "metadata": {},
   "source": [
    "## Amostragem Sistemática\n",
    "\n",
    "Aqui, seleciona-se a amostra seguindo um padrão específico pré-estabelecido. Esse método é útil quando temos uma lista organizada da população e queremos garantir uma distribuição mais uniforme dos elementos selecionados."
   ]
  },
  {
   "cell_type": "code",
   "execution_count": null,
   "metadata": {},
   "outputs": [],
   "source": [
    "## Explique o que este código está fazendo está fazendo\n",
    "## np.random.seed(3)\n",
    "\n",
    "aleatorio = np.random.choice(10)\n",
    "\n",
    "amostra_sistematica = np.arange(aleatorio,15000,150)\n",
    "amostra_sistematica"
   ]
  },
  {
   "cell_type": "code",
   "execution_count": null,
   "metadata": {},
   "outputs": [
    {
     "name": "stdout",
     "output_type": "stream",
     "text": [
      "[299]\n"
     ]
    },
    {
     "data": {
      "text/plain": [
       "array([    6,   305,   604,   903,  1202,  1501,  1800,  2099,  2398,\n",
       "        2697,  2996,  3295,  3594,  3893,  4192,  4491,  4790,  5089,\n",
       "        5388,  5687,  5986,  6285,  6584,  6883,  7182,  7481,  7780,\n",
       "        8079,  8378,  8677,  8976,  9275,  9574,  9873, 10172, 10471,\n",
       "       10770, 11069, 11368, 11667, 11966, 12265, 12564, 12863, 13162,\n",
       "       13461, 13760, 14059, 14358, 14657, 14956])"
      ]
     },
     "execution_count": 2,
     "metadata": {},
     "output_type": "execute_result"
    }
   ],
   "source": [
    "## Explique o que este código está fazendo está fazendo\n",
    "## np.random.seed(4)\n",
    "aleatorio = np.random.choice(10,1)\n",
    "passo = np.random.randint(120,300,1)\n",
    "print(passo)\n",
    "amostra_sistematica2 = np.arange(aleatorio,15000,passo)\n",
    "amostra_sistematica2"
   ]
  },
  {
   "cell_type": "markdown",
   "metadata": {},
   "source": [
    "## Amostragem Estratificada\n",
    "\n",
    "Nessa abordagem, divide-se a população em grupos menores homogêneos, chamados estratos, com base em alguma característica comum. Depois, seleciona-se uma amostra de cada estrato, proporcionalmente ao tamanho do estrato, usando amostragem simples ou sistemática. Isso garante que a amostra seja representativa de cada subgrupo da população."
   ]
  },
  {
   "cell_type": "code",
   "execution_count": null,
   "metadata": {},
   "outputs": [],
   "source": [
    "## Explique o que este código está fazendo está fazendo\n",
    "df['cut'].value_counts()"
   ]
  },
  {
   "cell_type": "markdown",
   "metadata": {},
   "source": [
    "### Exercício 1\n",
    "\n",
    "Divida a população, selecionando os casos pela variável 'cut', em amostras aleatórias de 20%"
   ]
  },
  {
   "cell_type": "markdown",
   "metadata": {},
   "source": [
    "### Exercício 2\n",
    "\n",
    "Faça uma amostra com 20000 entradas, mantendo a proporção da variável 'cut' tal qual o arquivo original"
   ]
  },
  {
   "cell_type": "markdown",
   "metadata": {},
   "source": [
    "### Exercício 3\n",
    "\n",
    "Plote histogramas para a variável quilate do arquivo original e de todas as amostras que vocês criaram em aula. Os resultados foram análogos?"
   ]
  },
  {
   "cell_type": "markdown",
   "metadata": {},
   "source": [
    "### Referência\n",
    "\n",
    "Estatística para Análise de Dados com Python (Prof. Luciano Galdino)\n",
    "\n",
    "https://medium.com/@pablovictords/estat%C3%ADstica-na-pr%C3%A1tica-com-python-amostragem-aleat%C3%B3ria-7f252495e042\n",
    "\n",
    "https://icd-ufmg.github.io/08-amostragem/"
   ]
  }
 ],
 "metadata": {
  "kernelspec": {
   "display_name": "Python 3",
   "language": "python",
   "name": "python3"
  },
  "language_info": {
   "codemirror_mode": {
    "name": "ipython",
    "version": 3
   },
   "file_extension": ".py",
   "mimetype": "text/x-python",
   "name": "python",
   "nbconvert_exporter": "python",
   "pygments_lexer": "ipython3",
   "version": "3.11.2"
  }
 },
 "nbformat": 4,
 "nbformat_minor": 2
}
