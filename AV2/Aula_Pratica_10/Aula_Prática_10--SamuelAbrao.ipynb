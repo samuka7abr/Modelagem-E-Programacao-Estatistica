{
 "cells": [
  {
   "cell_type": "code",
   "execution_count": null,
   "metadata": {},
   "outputs": [
    {
     "name": "stdout",
     "output_type": "stream",
     "text": [
      "Media de jogadas: 3.4999\n",
      "Estatística Qui-Quadrado: 1.8008\n",
      "p-valor: 0.875963933015645\n",
      "dado é honesto\n"
     ]
    }
   ],
   "source": [
    "#Exercício 1\n",
    "import numpy as np\n",
    "from scipy.stats import chisquare\n",
    "#dados\n",
    "np.random.seed(42)\n",
    "dados = np.random.randint(1, 7, size = 10000)\n",
    "\n",
    "media = np.mean(dados)\n",
    "print(f\"Media de jogadas: {media}\")\n",
    "\n",
    "#testes\n",
    "observado = np.bincount(dados)[1:]\n",
    "esperado = [10000 / 6] * 6\n",
    "\n",
    "#teste qui-quadrado\n",
    "chi2_stat, p_valor = chisquare(f_obs=observado, f_exp=esperado)\n",
    "print(\"Estatística Qui-Quadrado:\", chi2_stat)\n",
    "print(\"p-valor:\", p_valor)\n",
    "\n",
    "#resultado teste:\n",
    "if p_valor < 0.05:\n",
    "    print(\"dado não é honesto\")\n",
    "else:\n",
    "    print(\"dado é honesto\")\n",
    "\n",
    "\n",
    "\n",
    "\n",
    "\n"
   ]
  },
  {
   "cell_type": "code",
   "execution_count": 5,
   "metadata": {},
   "outputs": [],
   "source": [
    "#exercício 2 - a)\n",
    "from scipy.stats import binom \n",
    "n  = 12\n",
    "p = 0.5\n",
    "\n",
    "#a melhor distribuição nesse caso é a binomial, pois o experimento trabalha com apenas dois resultados possiveis\n"
   ]
  },
  {
   "cell_type": "code",
   "execution_count": 6,
   "metadata": {},
   "outputs": [
    {
     "name": "stdout",
     "output_type": "stream",
     "text": [
      "probabilidade de obter 4 caras: 0.12084960937500007\n",
      "p-valor para 4 caras: 0.19384765625\n",
      "A moeda é honesta\n"
     ]
    }
   ],
   "source": [
    "#exercício 2- b)\n",
    "prob4Caras = binom.pmf(4, n, p)\n",
    "print(f\"probabilidade de obter 4 caras: {prob4Caras}\")\n",
    "\n",
    "pValor4 = binom.cdf(4, n, p)\n",
    "print(f\"p-valor para 4 caras: {pValor4}\")\n",
    "\n",
    "if pValor4 < 0.05:\n",
    "    print(\"A modeda não é honesta\")\n",
    "else:\n",
    "    print(\"A moeda é honesta\")\n",
    "    "
   ]
  },
  {
   "cell_type": "code",
   "execution_count": null,
   "metadata": {},
   "outputs": [],
   "source": [
    "#exercicio 2- c)\n",
    "prob9Caras = binom.pmf(9, n, p)\n",
    "print(f\"probabilidade 9 caras: {prob9Caras}\")\n",
    "\n",
    "pValor9 = 1 - binom.cdf(8, n, p)\n",
    "print(f\"p-valor para 9 caras: {pValor9}\")\n",
    "\n",
    "if pValor9 < 0.05:\n",
    "    print(\"moeda n~ao é honesta\")\n",
    "else:\n",
    "    print(\"a moeda é honesta\")"
   ]
  },
  {
   "cell_type": "code",
   "execution_count": null,
   "metadata": {},
   "outputs": [],
   "source": [
    "\"\"\"\n",
    "sim, há dificuldad prática\n",
    "pois problemas de distribuição binomial \n",
    "geralmente são trabalhosos de fazer manualmente\n",
    "\n",
    "\"\"\""
   ]
  }
 ],
 "metadata": {
  "kernelspec": {
   "display_name": "Python 3",
   "language": "python",
   "name": "python3"
  },
  "language_info": {
   "codemirror_mode": {
    "name": "ipython",
    "version": 3
   },
   "file_extension": ".py",
   "mimetype": "text/x-python",
   "name": "python",
   "nbconvert_exporter": "python",
   "pygments_lexer": "ipython3",
   "version": "3.11.2"
  }
 },
 "nbformat": 4,
 "nbformat_minor": 2
}
