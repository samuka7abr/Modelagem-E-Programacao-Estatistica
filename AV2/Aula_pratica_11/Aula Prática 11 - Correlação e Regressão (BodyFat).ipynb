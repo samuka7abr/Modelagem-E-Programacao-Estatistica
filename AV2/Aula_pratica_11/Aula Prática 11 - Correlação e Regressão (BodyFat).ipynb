{
 "cells": [
  {
   "cell_type": "markdown",
   "metadata": {},
   "source": [
    "## Estudo da correlação entre variáveis e regressão\n",
    "\n",
    "Na atividade desta semana, vamos utilizar o conjunto de dados \"bodyfat.csv\".\n",
    "\n",
    "1)  Faça todo o estudo descritivo das variáveis.\n",
    "\n",
    "2) Dentre as variáveis apresentadas no arquivo, existe alguma no quais os dados não estejam bem distribuídos (utilizem os seus conhecimentos de estatística descritiva)?\n",
    "\n",
    "3)  O conjunto de dados é uma importante ferramenta para estudo sobre obesidade. É possível que haja correlação entre as variáveis e o nível de gordura corporal (variável BodyFat). Faça o gráfico de dispersão de cada uma das variáveis com a variável BodyFat e calcule a correlação.\n",
    "\n",
    "4)  Dos resultados encontrados, qual você indicaria para compor um modelo numérico para prever a gordura corporal? Explique os motivos da escolha baseados nas informações calculadas anteriormente.\n",
    "\n",
    "5)  A partir das informações anteriores, encontre uma reta de regressão com as variáveis encontradas no item anterior (regressão múltipla).\n",
    "\n",
    "6)  Uma vez escolhida as melhores variáveis para representar a variável \"Body Fat\", o que se pode inferir sobre o conjunto de dados apresentados e o modelo encontrado no item 5?\n"
   ]
  }
 ],
 "metadata": {
  "kernelspec": {
   "display_name": "Python 3",
   "language": "python",
   "name": "python3"
  },
  "language_info": {
   "name": "python",
   "version": "3.11.6"
  }
 },
 "nbformat": 4,
 "nbformat_minor": 2
}
