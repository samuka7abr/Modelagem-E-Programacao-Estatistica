{
 "cells": [
  {
   "cell_type": "code",
   "execution_count": null,
   "metadata": {},
   "outputs": [],
   "source": [
    "#1\n",
    "import pandas as pd \n",
    "import matplotlib.pyplot as plt\n",
    "import numpy as np\n",
    "from scipy.stats import shapiro\n",
    "import seaborn as sns\n",
    "\n",
    "dados = pd.read_csv('bodyfat.csv')\n",
    "topo = dados.head()\n",
    "print(f\"visão do topo da tabela:\\n\\n{topo}\\n\\n\")\n",
    "\n",
    "resumo = dados.describe()\n",
    "print(f\"resumo dos dados:\\n\\n{resumo}\")\n"
   ]
  },
  {
   "cell_type": "code",
   "execution_count": null,
   "metadata": {},
   "outputs": [],
   "source": [
    "#1\n",
    "dados.hist(bins=20, figsize=(15, 10), layout=(5, 3))\n",
    "plt.tight_layout()\n",
    "plt.show()\n",
    "\n",
    "#teste de normalidade (Shapiro-Wilk)\n",
    "for col in dados.columns:\n",
    "    stat, p_value = shapiro(dados[col])\n",
    "    print(f\"Teste de Shapiro-Wilk para {col}: p-valor = {p_value:.4f}\")\n",
    "    if p_value < 0.05:\n",
    "        print(f\" -> A variável {col} não segue uma distribuição normal.\")\n",
    "    else:\n",
    "        print(f\" -> A variável {col} segue uma distribuição normal.\")\n"
   ]
  },
  {
   "cell_type": "code",
   "execution_count": null,
   "metadata": {},
   "outputs": [],
   "source": [
    "#3\n",
    "#gráficos de dispersão entre BodyFat e outras variáveis\n",
    "for col in dados.columns:\n",
    "    if col != 'BodyFat':\n",
    "        sns.scatterplot(x=dados[col], y=dados['BodyFat'])\n",
    "        plt.title(f\"Dispersão entre {col} e BodyFat\")\n",
    "        plt.xlabel(col)\n",
    "        plt.ylabel('BodyFat')\n",
    "        plt.show()\n",
    "\n",
    "#calcula a correlação entre BodyFat e outras variáveis\n",
    "correlacoes = dados.corr()['BodyFat'].sort_values(ascending=False)\n",
    "print(\"Correlação com BodyFat:\")\n",
    "print(correlacoes)\n"
   ]
  },
  {
   "cell_type": "code",
   "execution_count": null,
   "metadata": {},
   "outputs": [],
   "source": [
    "#4\n",
    "#variáveis mais correlacionadas com BodyFat\n",
    "variaveis_relevantes = correlacoes[abs(correlacoes) > 0.5]\n",
    "print(\"\\nVariáveis selecionadas para o modelo:\")\n",
    "print(variaveis_relevantes)\n"
   ]
  },
  {
   "cell_type": "code",
   "execution_count": null,
   "metadata": {},
   "outputs": [],
   "source": [
    "#5\n",
    "from sklearn.model_selection import train_test_split\n",
    "from sklearn.linear_model import LinearRegression\n",
    "from sklearn.metrics import mean_squared_error, r2_score\n",
    "\n",
    "#separar variáveis independentes (X) e dependente (y)\n",
    "X = dados[variaveis_relevantes.index.drop('BodyFat')]\n",
    "y = dados['BodyFat']\n",
    "\n",
    "#dividir os dados em treino e teste\n",
    "X_train, X_test, y_train, y_test = train_test_split(X, y, test_size=0.3, random_state=42)\n",
    "\n",
    "#ajustar o modelo de regressão linear\n",
    "modelo = LinearRegression()\n",
    "modelo.fit(X_train, y_train)\n",
    "\n",
    "#coeficientes da regressão\n",
    "print(\"\\nCoeficientes do modelo:\")\n",
    "print(f\"Intercepto: {modelo.intercept_}\")\n",
    "print(f\"Coeficientes: {modelo.coef_}\")\n",
    "\n",
    "y_pred = modelo.predict(X_test)\n",
    "print(\"\\nAvaliação do modelo:\")\n",
    "print(f\"Erro quadrático médio (MSE): {mean_squared_error(y_test, y_pred):.2f}\")\n",
    "print(f\"Coeficiente de determinação (R²): {r2_score(y_test, y_pred):.2f}\")\n"
   ]
  },
  {
   "cell_type": "code",
   "execution_count": null,
   "metadata": {},
   "outputs": [
    {
     "name": "stdout",
     "output_type": "stream",
     "text": [
      "\n",
      "Inferência:\n",
      "O modelo ajustado apresenta um R² indicando o quanto as variáveis selecionadas explicam a gordura corporal.\n",
      "As variáveis mais correlacionadas são fortes preditores para o nível de gordura corporal.\n",
      "A análise mostra como essas variáveis podem ser usadas para prever o BodyFat com boa precisão.\n"
     ]
    }
   ],
   "source": [
    "#6\n",
    "print(\"\\nInferência:\")\n",
    "print(\"O modelo ajustado apresenta um R² indicando o quanto as variáveis selecionadas explicam a gordura corporal.\\nAs variáveis mais correlacionadas são fortes preditores para o nível de gordura corporal.\\nA análise mostra como essas variáveis podem ser usadas para prever o BodyFat com boa precisão.\")\n"
   ]
  }
 ],
 "metadata": {
  "kernelspec": {
   "display_name": "Python 3",
   "language": "python",
   "name": "python3"
  },
  "language_info": {
   "codemirror_mode": {
    "name": "ipython",
    "version": 3
   },
   "file_extension": ".py",
   "mimetype": "text/x-python",
   "name": "python",
   "nbconvert_exporter": "python",
   "pygments_lexer": "ipython3",
   "version": "3.11.2"
  }
 },
 "nbformat": 4,
 "nbformat_minor": 2
}
